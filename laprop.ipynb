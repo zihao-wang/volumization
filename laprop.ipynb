{
 "cells": [
  {
   "cell_type": "code",
   "execution_count": 1,
   "metadata": {
    "collapsed": true,
    "pycharm": {
     "is_executing": false
    }
   },
   "outputs": [],
   "source": [
    "import pandas as pd\n",
    "import matplotlib.pyplot as plt\n",
    "import numpy as np"
   ]
  },
  {
   "cell_type": "code",
   "execution_count": 3,
   "outputs": [],
   "source": [
    "laprop = pd.read_csv(\"log/IMDB/default-200206-20390461a6-LSTMATT.log\")"
   ],
   "metadata": {
    "collapsed": false,
    "pycharm": {
     "name": "#%%\n",
     "is_executing": false
    }
   }
  },
  {
   "cell_type": "code",
   "execution_count": 4,
   "outputs": [
    {
     "data": {
      "text/plain": "    epoch  train_loss  train_acc  val_loss    val_acc  test_loss   test_acc\n0       1    0.549453  50.677116  0.552108  50.772190   0.552922  50.345185\n1       2    0.548331  51.882587  0.549407  51.425903   0.549007  51.391901\n2       3    0.547435  51.490102  0.548959  51.231462   0.549110  50.749362\n3       4    0.545345  52.448627  0.548233  51.699794   0.548321  51.268335\n4       5    0.542150  53.640461  0.548415  51.170133   0.548924  50.554847\n..    ...         ...        ...       ...        ...        ...        ...\n95     96    0.048239  96.631030  0.675587  51.381997   0.598720  56.730708\n96     97    0.047786  96.657311  0.678524  51.209857   0.601365  56.678093\n97     98    0.047618  96.651609  0.677344  51.425903   0.601157  56.777742\n98     99    0.049388  96.543260  0.672621  51.275368   0.625141  54.528061\n99    100    0.063301  95.681183  0.679950  51.059322   0.607354  56.126435\n\n[100 rows x 7 columns]",
      "text/html": "<div>\n<style scoped>\n    .dataframe tbody tr th:only-of-type {\n        vertical-align: middle;\n    }\n\n    .dataframe tbody tr th {\n        vertical-align: top;\n    }\n\n    .dataframe thead th {\n        text-align: right;\n    }\n</style>\n<table border=\"1\" class=\"dataframe\">\n  <thead>\n    <tr style=\"text-align: right;\">\n      <th></th>\n      <th>epoch</th>\n      <th>train_loss</th>\n      <th>train_acc</th>\n      <th>val_loss</th>\n      <th>val_acc</th>\n      <th>test_loss</th>\n      <th>test_acc</th>\n    </tr>\n  </thead>\n  <tbody>\n    <tr>\n      <th>0</th>\n      <td>1</td>\n      <td>0.549453</td>\n      <td>50.677116</td>\n      <td>0.552108</td>\n      <td>50.772190</td>\n      <td>0.552922</td>\n      <td>50.345185</td>\n    </tr>\n    <tr>\n      <th>1</th>\n      <td>2</td>\n      <td>0.548331</td>\n      <td>51.882587</td>\n      <td>0.549407</td>\n      <td>51.425903</td>\n      <td>0.549007</td>\n      <td>51.391901</td>\n    </tr>\n    <tr>\n      <th>2</th>\n      <td>3</td>\n      <td>0.547435</td>\n      <td>51.490102</td>\n      <td>0.548959</td>\n      <td>51.231462</td>\n      <td>0.549110</td>\n      <td>50.749362</td>\n    </tr>\n    <tr>\n      <th>3</th>\n      <td>4</td>\n      <td>0.545345</td>\n      <td>52.448627</td>\n      <td>0.548233</td>\n      <td>51.699794</td>\n      <td>0.548321</td>\n      <td>51.268335</td>\n    </tr>\n    <tr>\n      <th>4</th>\n      <td>5</td>\n      <td>0.542150</td>\n      <td>53.640461</td>\n      <td>0.548415</td>\n      <td>51.170133</td>\n      <td>0.548924</td>\n      <td>50.554847</td>\n    </tr>\n    <tr>\n      <th>...</th>\n      <td>...</td>\n      <td>...</td>\n      <td>...</td>\n      <td>...</td>\n      <td>...</td>\n      <td>...</td>\n      <td>...</td>\n    </tr>\n    <tr>\n      <th>95</th>\n      <td>96</td>\n      <td>0.048239</td>\n      <td>96.631030</td>\n      <td>0.675587</td>\n      <td>51.381997</td>\n      <td>0.598720</td>\n      <td>56.730708</td>\n    </tr>\n    <tr>\n      <th>96</th>\n      <td>97</td>\n      <td>0.047786</td>\n      <td>96.657311</td>\n      <td>0.678524</td>\n      <td>51.209857</td>\n      <td>0.601365</td>\n      <td>56.678093</td>\n    </tr>\n    <tr>\n      <th>97</th>\n      <td>98</td>\n      <td>0.047618</td>\n      <td>96.651609</td>\n      <td>0.677344</td>\n      <td>51.425903</td>\n      <td>0.601157</td>\n      <td>56.777742</td>\n    </tr>\n    <tr>\n      <th>98</th>\n      <td>99</td>\n      <td>0.049388</td>\n      <td>96.543260</td>\n      <td>0.672621</td>\n      <td>51.275368</td>\n      <td>0.625141</td>\n      <td>54.528061</td>\n    </tr>\n    <tr>\n      <th>99</th>\n      <td>100</td>\n      <td>0.063301</td>\n      <td>95.681183</td>\n      <td>0.679950</td>\n      <td>51.059322</td>\n      <td>0.607354</td>\n      <td>56.126435</td>\n    </tr>\n  </tbody>\n</table>\n<p>100 rows × 7 columns</p>\n</div>"
     },
     "metadata": {},
     "output_type": "execute_result",
     "execution_count": 4
    }
   ],
   "source": [
    "laprop"
   ],
   "metadata": {
    "collapsed": false,
    "pycharm": {
     "name": "#%%\n",
     "is_executing": false
    }
   }
  },
  {
   "cell_type": "code",
   "execution_count": null,
   "outputs": [],
   "source": [
    "vadam = pd.read_csv()\n"
   ],
   "metadata": {
    "collapsed": false,
    "pycharm": {
     "name": "#%%\n"
    }
   }
  }
 ],
 "metadata": {
  "kernelspec": {
   "display_name": "Python 3",
   "language": "python",
   "name": "python3"
  },
  "language_info": {
   "codemirror_mode": {
    "name": "ipython",
    "version": 2
   },
   "file_extension": ".py",
   "mimetype": "text/x-python",
   "name": "python",
   "nbconvert_exporter": "python",
   "pygments_lexer": "ipython2",
   "version": "2.7.6"
  },
  "pycharm": {
   "stem_cell": {
    "cell_type": "raw",
    "source": [],
    "metadata": {
     "collapsed": false
    }
   }
  }
 },
 "nbformat": 4,
 "nbformat_minor": 0
}